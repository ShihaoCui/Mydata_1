{
 "cells": [
  {
   "cell_type": "code",
   "execution_count": 1,
   "metadata": {
    "id": "U6bvB_yokXQR"
   },
   "outputs": [],
   "source": [
    "from keras.models import Sequential\n",
    "from keras.layers import Dense,Dropout\n",
    "from keras.layers import LSTM,Input\n",
    "from sklearn.model_selection import train_test_split\n",
    "import numpy as np\n",
    "import matplotlib.pyplot as plt\n",
    "import tensorflow as tf\n",
    "import pandas as pd\n",
    "from keras.models import load_model\n",
    "# from keras.utils import to_categorical\n",
    "from tensorflow.keras.utils import to_categorical"
   ]
  },
  {
   "cell_type": "code",
   "execution_count": 2,
   "metadata": {
    "id": "UoSGFNfakXQU"
   },
   "outputs": [],
   "source": [
    "import scipy.io as scio\n",
    "import numpy as np\n",
    "import matplotlib.pyplot as plt\n",
    "from PIL import Image\n",
    "import numpy as np"
   ]
  },
  {
   "cell_type": "code",
   "execution_count": 3,
   "metadata": {
    "colab": {
     "base_uri": "https://localhost:8080/",
     "height": 433
    },
    "id": "FyFPHV1skXQV",
    "outputId": "eff8c61f-8ede-4510-b4f7-13a0f274e5c3"
   },
   "outputs": [],
   "source": [
    "dataFile = 'XX.mat'\n",
    "data = scio.loadmat(dataFile)"
   ]
  },
  {
   "cell_type": "code",
   "execution_count": 4,
   "metadata": {
    "colab": {
     "base_uri": "https://localhost:8080/",
     "height": 166
    },
    "id": "rz4gLodjkXQV",
    "outputId": "992847e5-ebfe-41e8-c34b-8e192cebf137"
   },
   "outputs": [],
   "source": [
    "Data = data['XX']"
   ]
  },
  {
   "cell_type": "code",
   "execution_count": 5,
   "metadata": {
    "colab": {
     "base_uri": "https://localhost:8080/",
     "height": 166
    },
    "id": "W3wU0RlEkXQW",
    "outputId": "3a1c7aae-0aaf-4d82-a605-176fa4fc6db5"
   },
   "outputs": [
    {
     "data": {
      "text/plain": [
       "(930, 1050, 3, 38)"
      ]
     },
     "execution_count": 5,
     "metadata": {},
     "output_type": "execute_result"
    }
   ],
   "source": [
    "Data.shape"
   ]
  },
  {
   "cell_type": "code",
   "execution_count": 6,
   "metadata": {
    "colab": {
     "base_uri": "https://localhost:8080/",
     "height": 200
    },
    "id": "tkob1tHSkXQ5",
    "outputId": "2871e784-ccd1-4ec6-c5d2-249c7a938c90"
   },
   "outputs": [
    {
     "data": {
      "text/plain": [
       "(38, 930, 1050, 3)"
      ]
     },
     "execution_count": 6,
     "metadata": {},
     "output_type": "execute_result"
    }
   ],
   "source": [
    "train_X=np.array(Data,dtype=\"float16\")\n",
    "train_X  = train_X.reshape(-1,930,1050,3)\n",
    "train_X.shape"
   ]
  },
  {
   "cell_type": "code",
   "execution_count": 7,
   "metadata": {
    "id": "pBuKVPuVkXQ5"
   },
   "outputs": [],
   "source": [
    "train_Y = np.array([0,0,1,1,1,1,1,1,1,1,2,2,2,2,2,2,2,2,3,3,3,3,3,3,3,3,3,3,3],dtype=\"int\")\n",
    "train_Y = train_Y.reshape(-1)"
   ]
  },
  {
   "cell_type": "code",
   "execution_count": 8,
   "metadata": {
    "colab": {
     "base_uri": "https://localhost:8080/",
     "height": 218
    },
    "id": "o9nsBmYZkXQ6",
    "outputId": "31da48d9-c523-4823-a15f-d72bdef00792"
   },
   "outputs": [
    {
     "ename": "NameError",
     "evalue": "ignored",
     "output_type": "error",
     "traceback": [
      "\u001b[0;31m---------------------------------------------------------------------------\u001b[0m",
      "\u001b[0;31mNameError\u001b[0m                                 Traceback (most recent call last)",
      "\u001b[0;32m<ipython-input-8-48647c61a588>\u001b[0m in \u001b[0;36m<module>\u001b[0;34m\u001b[0m\n\u001b[1;32m      1\u001b[0m \u001b[0;32mfrom\u001b[0m \u001b[0msklearn\u001b[0m\u001b[0;34m.\u001b[0m\u001b[0mmodel_selection\u001b[0m \u001b[0;32mimport\u001b[0m \u001b[0mtrain_test_split\u001b[0m\u001b[0;34m\u001b[0m\u001b[0;34m\u001b[0m\u001b[0m\n\u001b[0;32m----> 2\u001b[0;31m \u001b[0mX\u001b[0m \u001b[0;34m=\u001b[0m \u001b[0mtrain_X\u001b[0m\u001b[0;34m\u001b[0m\u001b[0;34m\u001b[0m\u001b[0m\n\u001b[0m\u001b[1;32m      3\u001b[0m \u001b[0mY1\u001b[0m \u001b[0;34m=\u001b[0m \u001b[0mtrain_Y\u001b[0m\u001b[0;34m\u001b[0m\u001b[0;34m\u001b[0m\u001b[0m\n\u001b[1;32m      4\u001b[0m \u001b[0mx_train\u001b[0m\u001b[0;34m,\u001b[0m \u001b[0mx_test\u001b[0m\u001b[0;34m,\u001b[0m \u001b[0my_train\u001b[0m\u001b[0;34m,\u001b[0m \u001b[0my_test\u001b[0m \u001b[0;34m=\u001b[0m \u001b[0mtrain_test_split\u001b[0m\u001b[0;34m(\u001b[0m\u001b[0mX\u001b[0m\u001b[0;34m,\u001b[0m \u001b[0mY1\u001b[0m\u001b[0;34m,\u001b[0m \u001b[0mtest_size\u001b[0m\u001b[0;34m=\u001b[0m\u001b[0;36m0.2\u001b[0m\u001b[0;34m,\u001b[0m \u001b[0mrandom_state\u001b[0m\u001b[0;34m=\u001b[0m\u001b[0;36m42\u001b[0m\u001b[0;34m)\u001b[0m\u001b[0;34m\u001b[0m\u001b[0;34m\u001b[0m\u001b[0m\n",
      "\u001b[0;31mNameError\u001b[0m: name 'train_X' is not defined"
     ]
    }
   ],
   "source": [
    "from sklearn.model_selection import train_test_split\n",
    "X = train_X\n",
    "Y1 = train_Y\n",
    "x_train, x_test, y_train, y_test = train_test_split(X, Y1, test_size=0.2, random_state=42)"
   ]
  },
  {
   "cell_type": "code",
   "execution_count": 9,
   "metadata": {
    "colab": {
     "base_uri": "https://localhost:8080/",
     "height": 166
    },
    "id": "JbbfHH8lkXQ6",
    "outputId": "14409302-c174-4967-944b-a1b0d05ba7b6"
   },
   "outputs": [
    {
     "ename": "NameError",
     "evalue": "ignored",
     "output_type": "error",
     "traceback": [
      "\u001b[0;31m---------------------------------------------------------------------------\u001b[0m",
      "\u001b[0;31mNameError\u001b[0m                                 Traceback (most recent call last)",
      "\u001b[0;32m<ipython-input-9-2132a220a582>\u001b[0m in \u001b[0;36m<module>\u001b[0;34m\u001b[0m\n\u001b[0;32m----> 1\u001b[0;31m \u001b[0mx_train\u001b[0m\u001b[0;34m.\u001b[0m\u001b[0mshape\u001b[0m\u001b[0;34m\u001b[0m\u001b[0;34m\u001b[0m\u001b[0m\n\u001b[0m",
      "\u001b[0;31mNameError\u001b[0m: name 'x_train' is not defined"
     ]
    }
   ],
   "source": [
    "x_train.shape"
   ]
  },
  {
   "cell_type": "code",
   "execution_count": null,
   "metadata": {
    "id": "oBTG_xxkkXQ7"
   },
   "outputs": [],
   "source": [
    "\n",
    "# from keras.utils import to_categorical\n",
    "\n",
    "# path=\"F:\\\\kaggle\\\\dog_vs_cat\\\\\"\n",
    "\n",
    "# train_X=np.empty((2000,227,227,3),dtype=\"float16\")\n",
    "# train_Y=np.empty((2000,),dtype=\"int\")\n",
    "\n",
    "# for i in range(1000):\n",
    "#     file_path=path+\"cat.\"+str(i)+\".jpg\"\n",
    "#     image=Image.open(file_path)\n",
    "#     resized_image = image.resize((227, 227), Image.ANTIALIAS)\n",
    "#     img=np.array(resized_image)\n",
    "#     train_X[i,:,:,:]=img\n",
    "#     train_Y[i]=0\n",
    "\n",
    "# for i in range(1000):\n",
    "#     file_path=path+\"dog.\"+str(i)+\".jpg\"\n",
    "#     image = Image.open(file_path)\n",
    "#     resized_image = image.resize((227, 227), Image.ANTIALIAS)\n",
    "#     img = np.array(resized_image)\n",
    "#     train_X[i+1000, :, :, :] = img\n",
    "#     train_Y[i+1000] = 1\n"
   ]
  },
  {
   "cell_type": "code",
   "execution_count": null,
   "metadata": {
    "id": "KWx515_PkXQ_",
    "outputId": "8a48fe2c-10c9-4d61-b626-22872491ed7d"
   },
   "outputs": [
    {
     "name": "stdout",
     "output_type": "stream",
     "text": [
      "(23, 930, 1050, 3)\n",
      "(23, 4)\n"
     ]
    }
   ],
   "source": [
    "x_train /= 255\n",
    "y_train = to_categorical(y_train, 4)\n",
    "\n",
    "\n",
    "index = np.arange(23)\n",
    "np.random.shuffle(index)\n",
    "\n",
    "x_train = x_train[index, :, :, :]\n",
    "y_train = y_train[index]\n",
    "\n",
    "print(x_train.shape)\n",
    "print(y_train.shape)"
   ]
  },
  {
   "cell_type": "code",
   "execution_count": null,
   "metadata": {
    "id": "FKExx0YrkXRB"
   },
   "outputs": [],
   "source": [
    "from keras.layers import BatchNormalization, Dropout\n",
    "from keras.models import Sequential\n",
    "from keras.layers import Conv2D, MaxPooling2D, Flatten, Dense,Activation\n",
    "# AlexNet\n",
    "model = Sequential()\n",
    "# 第一段\n",
    "model.add(Conv2D(filters=96, kernel_size=(11, 11),\n",
    "                 strides=(4, 4), padding='valid',\n",
    "                 input_shape=(930, 1050, 3),\n",
    "                 activation='relu'))\n",
    "model.add(BatchNormalization())\n",
    "model.add(MaxPooling2D(pool_size=(3, 3),\n",
    "                       strides=(2, 2),\n",
    "                       padding='valid'))\n",
    "# 第二段\n",
    "model.add(Conv2D(filters=256, kernel_size=(5, 5),\n",
    "                 strides=(1, 1), padding='same',\n",
    "                 activation='relu'))\n",
    "model.add(BatchNormalization())\n",
    "model.add(MaxPooling2D(pool_size=(3, 3),\n",
    "                       strides=(2, 2),\n",
    "                       padding='valid'))\n",
    "# 第三段\n",
    "model.add(Conv2D(filters=384, kernel_size=(3, 3),\n",
    "                 strides=(1, 1), padding='same',\n",
    "                 activation='relu'))\n",
    "model.add(Conv2D(filters=384, kernel_size=(3, 3),\n",
    "                 strides=(1, 1), padding='same',\n",
    "                 activation='relu'))\n",
    "model.add(Conv2D(filters=256, kernel_size=(3, 3),\n",
    "                 strides=(1, 1), padding='same',\n",
    "                 activation='relu'))\n",
    "model.add(MaxPooling2D(pool_size=(3, 3),\n",
    "                       strides=(2, 2), padding='valid'))\n",
    "# 第四段\n",
    "model.add(Flatten())\n",
    "model.add(Dense(4096, activation='relu'))\n",
    "model.add(Dropout(0.5))\n",
    "\n",
    "model.add(Dense(4096, activation='relu'))\n",
    "model.add(Dropout(0.5))\n",
    "\n",
    "model.add(Dense(1000, activation='relu'))\n",
    "model.add(Dropout(0.5))\n",
    "\n",
    "# Output Layer\n",
    "model.add(Dense(4))\n",
    "model.add(Activation('softmax'))"
   ]
  },
  {
   "cell_type": "code",
   "execution_count": null,
   "metadata": {
    "id": "8_xjAXBWkXRD"
   },
   "outputs": [],
   "source": [
    "model.summary()"
   ]
  },
  {
   "cell_type": "code",
   "execution_count": null,
   "metadata": {
    "id": "W27pgOhWkXRE"
   },
   "outputs": [],
   "source": [
    "model.compile(loss='categorical_crossentropy',\n",
    "              optimizer='adam',\n",
    "              metrics=['accuracy'])\n",
    "batch_size = 10\n",
    "epochs = 20\n",
    "\n",
    "model.fit(train_X, train_Y,\n",
    "         batch_size=batch_size,\n",
    "         epochs=epochs)"
   ]
  },
  {
   "cell_type": "code",
   "execution_count": null,
   "metadata": {
    "id": "SGAQKatikXRG"
   },
   "outputs": [],
   "source": [
    "batch_size = 32\n",
    "epochs = 20\n",
    "model.fit(train_X, train_Y,\n",
    "         batch_size=batch_size,\n",
    "         epochs=epochs)"
   ]
  }
 ],
 "metadata": {
  "accelerator": "GPU",
  "colab": {
   "machine_shape": "hm",
   "provenance": []
  },
  "gpuClass": "premium",
  "kernelspec": {
   "display_name": "Python 3",
   "language": "python",
   "name": "python3"
  },
  "language_info": {
   "codemirror_mode": {
    "name": "ipython",
    "version": 3
   },
   "file_extension": ".py",
   "mimetype": "text/x-python",
   "name": "python",
   "nbconvert_exporter": "python",
   "pygments_lexer": "ipython3",
   "version": "3.8.5"
  }
 },
 "nbformat": 4,
 "nbformat_minor": 1
}
