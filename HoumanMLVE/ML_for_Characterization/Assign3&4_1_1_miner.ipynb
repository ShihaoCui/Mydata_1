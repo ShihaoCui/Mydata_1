{
  "nbformat": 4,
  "nbformat_minor": 0,
  "metadata": {
    "colab": {
      "provenance": [],
      "machine_shape": "hm",
      "gpuType": "A100",
      "include_colab_link": true
    },
    "kernelspec": {
      "name": "python3",
      "display_name": "Python 3"
    },
    "accelerator": "GPU"
  },
  "cells": [
    {
      "cell_type": "markdown",
      "metadata": {
        "id": "view-in-github",
        "colab_type": "text"
      },
      "source": [
        "<a href=\"https://colab.research.google.com/github/ShihaoCui/Mydata_1/blob/main/Assign3%264_1_1_miner.ipynb\" target=\"_parent\"><img src=\"https://colab.research.google.com/assets/colab-badge.svg\" alt=\"Open In Colab\"/></a>"
      ]
    },
    {
      "cell_type": "markdown",
      "metadata": {
        "id": "2hEPU9UmFpE0"
      },
      "source": [
        "### A typical AlexNet architecture is given below:\n",
        "\n",
        "Convolutional layer: 96 11 * 11 filters with a stride of 4\n",
        "\n",
        "Max pooling: 3 *3 max pooling with a stride of 2\n",
        "\n",
        "Convolutional layer: 256 5*5 filters with a stride of 2\n",
        "\n",
        "Max pooling: 3 *3 max pooling with a stride of 2\n",
        "\n",
        "Convolutional layer: 384 3 * 3 filters with a stride of 1\n",
        "\n",
        "Convolutional layer: 384 3 * 3 filters with a stride of 1\n",
        "\n",
        "Convolutional layer: 256 3 * 3 filters with a stride of 1\n",
        "\n",
        "Max pooling: 3* 3 max pooling with a stride of 2\n",
        "\n",
        "Fully Connected Layer: 4096 neurons\n",
        "\n",
        "Fully Connected Layer: 4096 neurons\n",
        "\n",
        "Fully Connected Layer: **1000** neurons\n",
        "\n",
        "As a first observation, please note the last fully connected layer consists of 1000 neurons, because AlexNet presented results on a 1000 class problem. Since you are dealing with a 10-class problem, obviously the last layer would consist of 10 neurons. Moreover, for a 10-class problem, it is possible that the three convolutional layers (before the FC layers) might be an overkill. So I'll be open to accepting implementations with a subset of layers in the typical architecture.                                        "
      ]
    },
    {
      "cell_type": "code",
      "metadata": {
        "id": "pdQITKt22i7r"
      },
      "source": [
        "# ## switch to GPU\n",
        "# !apt-get install -y -qq software-properties-common python-software-properties module-init-tools\n",
        "# !add-apt-repository -y ppa:alessandro-strada/ppa 2>&1 > /dev/null\n",
        "# !apt-get update -qq 2>&1 > /dev/null\n",
        "# !apt-get -y install -qq google-drive-ocamlfuse fuse\n",
        "# from google.colab import auth\n",
        "# auth.authenticate_user()\n",
        "# from oauth2client.client import GoogleCredentials\n",
        "# creds = GoogleCredentials.get_application_default()\n",
        "# import getpass\n",
        "# !google-drive-ocamlfuse -headless -id={creds.client_id} -secret={creds.client_secret} < /dev/null 2>&1 | grep URL\n",
        "# vcode = getpass.getpass()\n",
        "# !echo {vcode} | google-drive-ocamlfuse -headless -id={creds.client_id} -secret={creds.client_secret}\n"
      ],
      "execution_count": 1,
      "outputs": []
    },
    {
      "cell_type": "code",
      "metadata": {
        "id": "jsX8b4d3EghZ"
      },
      "source": [
        "# sess = tf.Session(config=tf.ConfigProto(log_device_placement=True))\n",
        "# from tensorflow.python.client import device_lib\n",
        "# print(device_lib.list_local_devices())\n",
        "# from tensorflow.python.client import device_lib\n",
        "# print(device_lib.list_local_devices())"
      ],
      "execution_count": 2,
      "outputs": []
    },
    {
      "cell_type": "markdown",
      "metadata": {
        "id": "dvgmvWXcvotG"
      },
      "source": [
        "#### (a) Using your favorite framework implement an Alex(Like)Net for 10-class classification, explaining your choice of layers. Do not use batch normalization. You may use drop-out for the fully connected layers. All activation functions would be ReLU."
      ]
    },
    {
      "cell_type": "code",
      "metadata": {
        "id": "OxSdXtauFgP6"
      },
      "source": [
        "import keras\n",
        "from keras.datasets import cifar10\n",
        "from keras.preprocessing.image import ImageDataGenerator\n",
        "from keras.models import Sequential\n",
        "from keras.layers import Dense, Dropout, Activation, Flatten,BatchNormalization\n",
        "from keras.layers import Conv2D, MaxPooling2D,Convolution2D\n",
        "# from keras.utils import np_utils\n",
        "from keras import backend as K\n",
        "import numpy as np\n",
        "from keras import optimizers\n",
        "from keras.optimizers import Adam\n",
        "from sklearn.metrics import confusion_matrix\n",
        "import tensorflow as tf\n",
        "import pickle\n",
        "import sys\n",
        "import os\n",
        "import matplotlib.pyplot as plt"
      ],
      "execution_count": 3,
      "outputs": []
    },
    {
      "cell_type": "code",
      "source": [
        "# !git clone https://github.com/ShihaoCui/MyData_1.git\n",
        "\n",
        "# import scipy.io as scio\n",
        "# dataFile = './MyData_1/Coal mining pi/Image processed/all figures/XX.mat'\n",
        "# data = scio.loadmat(dataFile)\n",
        "\n",
        "# Data = data['XX']\n",
        "# Data.shape\n",
        "\n",
        "# train_X=np.array(Data,dtype=\"float16\")\n",
        "# train_X  = train_X.reshape(-1,930,1050,3)\n",
        "# train_X.shape\n",
        "\n",
        "# train_Y = np.array([0,0,0,0,0,0,0,0,0,0,#\n",
        "#                     1,1,1,1,1,1,1,\n",
        "#                     2,2,2,2,2,2,2,2,2,2,\n",
        "#                     3,3,3,3,3,3,3,3,3,3,3],dtype=\"int\")\n",
        "# train_Y = train_Y.reshape(-1)\n",
        "# train_Y.shape\n",
        "\n",
        "# from sklearn.model_selection import train_test_split\n",
        "# X = train_X\n",
        "# Y1 = train_Y\n",
        "# x_train, x_test, y_train, y_test = train_test_split(X, Y1, test_size=0.2, random_state=42)"
      ],
      "metadata": {
        "id": "MlwVYdt49LtK"
      },
      "execution_count": 4,
      "outputs": []
    },
    {
      "cell_type": "code",
      "source": [
        "!git clone https://github.com/ShihaoCui/MyData_1.git"
      ],
      "metadata": {
        "colab": {
          "base_uri": "https://localhost:8080/"
        },
        "id": "aJPQeMOG5vZ7",
        "outputId": "349cbe9c-f1d6-43b1-adf9-b08970ec2fb2"
      },
      "execution_count": 5,
      "outputs": [
        {
          "output_type": "stream",
          "name": "stdout",
          "text": [
            "Cloning into 'MyData_1'...\n",
            "remote: Enumerating objects: 703, done.\u001b[K\n",
            "remote: Counting objects: 100% (377/377), done.\u001b[K\n",
            "remote: Compressing objects: 100% (291/291), done.\u001b[K\n",
            "remote: Total 703 (delta 178), reused 278 (delta 80), pack-reused 326\u001b[K\n",
            "Receiving objects: 100% (703/703), 359.25 MiB | 16.01 MiB/s, done.\n",
            "Resolving deltas: 100% (257/257), done.\n",
            "Updating files: 100% (324/324), done.\n"
          ]
        }
      ]
    },
    {
      "cell_type": "code",
      "source": [
        "import scipy.io as scio\n",
        "dataFile = './MyData_1/Coal mining pi/Image processed/all figures/XX.mat'\n",
        "data = scio.loadmat(dataFile)"
      ],
      "metadata": {
        "id": "3omUNLu-5zJg"
      },
      "execution_count": 6,
      "outputs": []
    },
    {
      "cell_type": "code",
      "source": [
        "Data = data['XX']\n",
        "Data.shape"
      ],
      "metadata": {
        "colab": {
          "base_uri": "https://localhost:8080/"
        },
        "id": "FzISray651qL",
        "outputId": "64bf3abc-1260-4f35-f3e0-1c0a6adbd3ab"
      },
      "execution_count": 7,
      "outputs": [
        {
          "output_type": "execute_result",
          "data": {
            "text/plain": [
              "(930, 1050, 3, 38)"
            ]
          },
          "metadata": {},
          "execution_count": 7
        }
      ]
    },
    {
      "cell_type": "code",
      "source": [
        "train_X=np.array(Data,dtype=\"float16\")\n",
        "train_X  = train_X.reshape(-1,930,1050,3)\n",
        "train_X.shape"
      ],
      "metadata": {
        "colab": {
          "base_uri": "https://localhost:8080/"
        },
        "id": "NBgYk4FB6Dmw",
        "outputId": "a32b5025-9dcf-40ea-c245-a39f666e0819"
      },
      "execution_count": 8,
      "outputs": [
        {
          "output_type": "execute_result",
          "data": {
            "text/plain": [
              "(38, 930, 1050, 3)"
            ]
          },
          "metadata": {},
          "execution_count": 8
        }
      ]
    },
    {
      "cell_type": "code",
      "source": [
        "train_Y = np.array([0,0,0,0,0,0,0,0,0,0,# 10\n",
        "                    1,1,1,1,1,1,1, # 7\n",
        "                    2,2,2,2,2,2,2,2,2,2,# 10\n",
        "                    3,3,3,3,3,3,3,3,3,3,3],# 11\n",
        "                   dtype=\"int\")\n",
        "train_Y = train_Y.reshape(-1)\n",
        "train_Y.shape"
      ],
      "metadata": {
        "colab": {
          "base_uri": "https://localhost:8080/"
        },
        "id": "DbgLJdqx6NsO",
        "outputId": "98e01c4b-0a46-42f3-9b80-9cd1d3025180"
      },
      "execution_count": 9,
      "outputs": [
        {
          "output_type": "execute_result",
          "data": {
            "text/plain": [
              "(38,)"
            ]
          },
          "metadata": {},
          "execution_count": 9
        }
      ]
    },
    {
      "cell_type": "code",
      "source": [
        "# train_Y = np.array([0,0,0,#\n",
        "#                     1,1,1,1,1,1,1,\n",
        "#                     2,2,2,2,2,2,2,2,\n",
        "#                     3,3,3,3,3,3,3,3,3,3,3],dtype=\"int\")\n",
        "# train_Y = train_Y.reshape(-1)\n",
        "# train_Y.shape"
      ],
      "metadata": {
        "id": "vdp23oFbDeyV"
      },
      "execution_count": 10,
      "outputs": []
    },
    {
      "cell_type": "code",
      "source": [
        "from sklearn.model_selection import train_test_split\n",
        "X = train_X\n",
        "Y1 = train_Y\n",
        "x_train, x_test, y_train, y_test = train_test_split(X, Y1, test_size=0.2, random_state=42)"
      ],
      "metadata": {
        "id": "5zLF-sgY6Rxh"
      },
      "execution_count": 11,
      "outputs": []
    },
    {
      "cell_type": "code",
      "metadata": {
        "id": "FC2XZzLrFvjG"
      },
      "source": [
        "# load the data: train and test\n",
        "# (x_train,y_train),(x_test,y_test) = cifar10.load_data()"
      ],
      "execution_count": 12,
      "outputs": []
    },
    {
      "cell_type": "code",
      "source": [],
      "metadata": {
        "id": "1JY9WsZc6KtT"
      },
      "execution_count": 12,
      "outputs": []
    },
    {
      "cell_type": "code",
      "metadata": {
        "id": "2w6PxP4dFzvm",
        "outputId": "ccae43de-d795-49d2-e698-0abe34e3f3ea",
        "colab": {
          "base_uri": "https://localhost:8080/"
        }
      },
      "source": [
        "# data processing\n",
        "from keras.utils import to_categorical\n",
        "x_train = x_train.reshape(-1,3,930,1050)/255\n",
        "x_test = x_test.reshape(-1,3,930,1050)/255\n",
        "y_train = keras.utils.to_categorical(y_train,num_classes = 4)\n",
        "y_test =keras.utils.to_categorical(y_test, num_classes=4)\n",
        "x_train.shape"
      ],
      "execution_count": 13,
      "outputs": [
        {
          "output_type": "execute_result",
          "data": {
            "text/plain": [
              "(30, 3, 930, 1050)"
            ]
          },
          "metadata": {},
          "execution_count": 13
        }
      ]
    },
    {
      "cell_type": "code",
      "source": [
        "y_test.shape"
      ],
      "metadata": {
        "colab": {
          "base_uri": "https://localhost:8080/"
        },
        "id": "jrTDefLY3nbL",
        "outputId": "ed0ae5b8-9598-49aa-f272-41a5b01a4754"
      },
      "execution_count": 14,
      "outputs": [
        {
          "output_type": "execute_result",
          "data": {
            "text/plain": [
              "(8, 4)"
            ]
          },
          "metadata": {},
          "execution_count": 14
        }
      ]
    },
    {
      "cell_type": "code",
      "metadata": {
        "id": "qM1oN7VvF3lM"
      },
      "source": [
        "model  = Sequential()"
      ],
      "execution_count": 15,
      "outputs": []
    },
    {
      "cell_type": "code",
      "metadata": {
        "id": "OsRT9T18F7Kz",
        "outputId": "a86a4914-3e96-4646-f50f-ffdc13c112c5",
        "colab": {
          "base_uri": "https://localhost:8080/"
        }
      },
      "source": [
        "# # Convolutional layer: 96 11*11 lters with a stride of 4 # 1\n",
        "# model.add(Conv2D(64,(3,3),strides=4,padding='same'))\n",
        "# model.add(Activation('relu'))\n",
        "\n",
        "# # Max pooling: 3*3 max pooling with a stride of 2 # 2\n",
        "# model.add(MaxPooling2D(\n",
        "#     pool_size=(3,3),\n",
        "#     strides=2,\n",
        "#     padding='same',    # Padding method\n",
        "#     data_format='channels_first',\n",
        "# ))\n",
        "# # model.summary()\n",
        "\n",
        "# Convolutional layer: 96 11*11 lters with a stride of 4 # 1\n",
        "model.add(Convolution2D(\n",
        "    batch_input_shape=(None, 3, 930, 1050),\n",
        "    kernel_size = (93,105),\n",
        "    filters=96,\n",
        "   # kernel_size=5,\n",
        "    strides=4,\n",
        "    padding='same',      # Padding method\n",
        "    data_format='channels_first',\n",
        "))\n",
        "model.add(BatchNormalization()) # Batchnormalization\n",
        "\n",
        "\n",
        "# Max pooling: 3*3 max pooling with a stride of 2 # 2\n",
        "model.add(MaxPooling2D(\n",
        "    pool_size=(3,3),\n",
        "    strides=2,\n",
        "    padding='same',    # Padding method\n",
        "    data_format='channels_first',\n",
        "))\n",
        "model.add(Activation('relu'))\n",
        "model.summary()"
      ],
      "execution_count": 16,
      "outputs": [
        {
          "output_type": "stream",
          "name": "stdout",
          "text": [
            "Model: \"sequential\"\n",
            "_________________________________________________________________\n",
            " Layer (type)                Output Shape              Param #   \n",
            "=================================================================\n",
            " conv2d (Conv2D)             (None, 96, 233, 263)      2812416   \n",
            "                                                                 \n",
            " batch_normalization (Batch  (None, 96, 233, 263)      1052      \n",
            " Normalization)                                                  \n",
            "                                                                 \n",
            " max_pooling2d (MaxPooling2  (None, 96, 117, 132)      0         \n",
            " D)                                                              \n",
            "                                                                 \n",
            " activation (Activation)     (None, 96, 117, 132)      0         \n",
            "                                                                 \n",
            "=================================================================\n",
            "Total params: 2813468 (10.73 MB)\n",
            "Trainable params: 2812942 (10.73 MB)\n",
            "Non-trainable params: 526 (2.05 KB)\n",
            "_________________________________________________________________\n"
          ]
        }
      ]
    },
    {
      "cell_type": "code",
      "metadata": {
        "id": "MGvR5NKTF9yy"
      },
      "source": [
        "# Convolutional layer: 256 5*5 lters with a stride of 2 # 3\n",
        "# Max pooling: 3*3 max pooling with a stride of 2 # 4\n",
        "model.add(Convolution2D(256,kernel_size = (11,11), strides=2, padding='same', data_format='channels_first'))\n",
        "model.add(MaxPooling2D(pool_size= (3,3), padding = 'same',strides=2,data_format='channels_first'))\n",
        "model.add(Activation('relu'))"
      ],
      "execution_count": 17,
      "outputs": []
    },
    {
      "cell_type": "code",
      "metadata": {
        "id": "SHb6YUriIFdm",
        "outputId": "fb1f2366-dafc-409f-de1f-15fdd1425ff6",
        "colab": {
          "base_uri": "https://localhost:8080/"
        }
      },
      "source": [
        "# Convolutional layer: 384 3*3 lters with a stride of 1 # 5\n",
        "model.add(Convolution2D(384,kernel_size = (3,3), strides=1, padding='same', data_format='channels_first'))\n",
        "model.add(Activation('relu'))\n",
        "# Convolutional layer: 384 3*3 lters with a stride of 1 # 6\n",
        "model.add(Convolution2D(384,kernel_size = (3,3), strides=1, padding='same', data_format='channels_first'))\n",
        "model.add(Activation('relu'))\n",
        "# Convolutional layer: 256 3 *3 lters with a stride of 1 # 7\n",
        "model.add(Convolution2D(256,kernel_size = (3,3),  strides=1, padding='same', data_format='channels_first'))\n",
        "# Max pooling: 3 *3 max pooling with a stride of 2 # 8\n",
        "model.add(MaxPooling2D(pool_size= (3,3), padding = 'same',strides=2,data_format='channels_first'))\n",
        "model.add(Activation('relu'))\n",
        "model.summary()"
      ],
      "execution_count": 18,
      "outputs": [
        {
          "output_type": "stream",
          "name": "stdout",
          "text": [
            "Model: \"sequential\"\n",
            "_________________________________________________________________\n",
            " Layer (type)                Output Shape              Param #   \n",
            "=================================================================\n",
            " conv2d (Conv2D)             (None, 96, 233, 263)      2812416   \n",
            "                                                                 \n",
            " batch_normalization (Batch  (None, 96, 233, 263)      1052      \n",
            " Normalization)                                                  \n",
            "                                                                 \n",
            " max_pooling2d (MaxPooling2  (None, 96, 117, 132)      0         \n",
            " D)                                                              \n",
            "                                                                 \n",
            " activation (Activation)     (None, 96, 117, 132)      0         \n",
            "                                                                 \n",
            " conv2d_1 (Conv2D)           (None, 256, 59, 66)       2973952   \n",
            "                                                                 \n",
            " max_pooling2d_1 (MaxPoolin  (None, 256, 30, 33)       0         \n",
            " g2D)                                                            \n",
            "                                                                 \n",
            " activation_1 (Activation)   (None, 256, 30, 33)       0         \n",
            "                                                                 \n",
            " conv2d_2 (Conv2D)           (None, 384, 30, 33)       885120    \n",
            "                                                                 \n",
            " activation_2 (Activation)   (None, 384, 30, 33)       0         \n",
            "                                                                 \n",
            " conv2d_3 (Conv2D)           (None, 384, 30, 33)       1327488   \n",
            "                                                                 \n",
            " activation_3 (Activation)   (None, 384, 30, 33)       0         \n",
            "                                                                 \n",
            " conv2d_4 (Conv2D)           (None, 256, 30, 33)       884992    \n",
            "                                                                 \n",
            " max_pooling2d_2 (MaxPoolin  (None, 256, 15, 17)       0         \n",
            " g2D)                                                            \n",
            "                                                                 \n",
            " activation_4 (Activation)   (None, 256, 15, 17)       0         \n",
            "                                                                 \n",
            "=================================================================\n",
            "Total params: 8885020 (33.89 MB)\n",
            "Trainable params: 8884494 (33.89 MB)\n",
            "Non-trainable params: 526 (2.05 KB)\n",
            "_________________________________________________________________\n"
          ]
        }
      ]
    },
    {
      "cell_type": "code",
      "metadata": {
        "id": "gJ8MoDkoIP1s",
        "outputId": "bc3e0d37-77e4-424e-8fbc-fcb442bc3525",
        "colab": {
          "base_uri": "https://localhost:8080/"
        }
      },
      "source": [
        "model.add(Flatten())\n",
        "# Fully Connected Layer: 4096 neurons # 9\n",
        "model.add(Dense(4069))\n",
        "model.add(Dropout(0.25))\n",
        "model.add(Activation('relu'))\n",
        "# Fully Connected Layer: 4096 neurons # 10\n",
        "model.add(Dense(4069))\n",
        "model.add(Dropout(0.25))\n",
        "model.add(Activation('relu'))\n",
        "# Fully Connected Layer: 10* neurons # 11\n",
        "model.add(Dense(4))\n",
        "model.add(Activation('softmax')) # for classification\n",
        "model.summary()"
      ],
      "execution_count": 19,
      "outputs": [
        {
          "output_type": "stream",
          "name": "stdout",
          "text": [
            "Model: \"sequential\"\n",
            "_________________________________________________________________\n",
            " Layer (type)                Output Shape              Param #   \n",
            "=================================================================\n",
            " conv2d (Conv2D)             (None, 96, 233, 263)      2812416   \n",
            "                                                                 \n",
            " batch_normalization (Batch  (None, 96, 233, 263)      1052      \n",
            " Normalization)                                                  \n",
            "                                                                 \n",
            " max_pooling2d (MaxPooling2  (None, 96, 117, 132)      0         \n",
            " D)                                                              \n",
            "                                                                 \n",
            " activation (Activation)     (None, 96, 117, 132)      0         \n",
            "                                                                 \n",
            " conv2d_1 (Conv2D)           (None, 256, 59, 66)       2973952   \n",
            "                                                                 \n",
            " max_pooling2d_1 (MaxPoolin  (None, 256, 30, 33)       0         \n",
            " g2D)                                                            \n",
            "                                                                 \n",
            " activation_1 (Activation)   (None, 256, 30, 33)       0         \n",
            "                                                                 \n",
            " conv2d_2 (Conv2D)           (None, 384, 30, 33)       885120    \n",
            "                                                                 \n",
            " activation_2 (Activation)   (None, 384, 30, 33)       0         \n",
            "                                                                 \n",
            " conv2d_3 (Conv2D)           (None, 384, 30, 33)       1327488   \n",
            "                                                                 \n",
            " activation_3 (Activation)   (None, 384, 30, 33)       0         \n",
            "                                                                 \n",
            " conv2d_4 (Conv2D)           (None, 256, 30, 33)       884992    \n",
            "                                                                 \n",
            " max_pooling2d_2 (MaxPoolin  (None, 256, 15, 17)       0         \n",
            " g2D)                                                            \n",
            "                                                                 \n",
            " activation_4 (Activation)   (None, 256, 15, 17)       0         \n",
            "                                                                 \n",
            " flatten (Flatten)           (None, 65280)             0         \n",
            "                                                                 \n",
            " dense (Dense)               (None, 4069)              265628389 \n",
            "                                                                 \n",
            " dropout (Dropout)           (None, 4069)              0         \n",
            "                                                                 \n",
            " activation_5 (Activation)   (None, 4069)              0         \n",
            "                                                                 \n",
            " dense_1 (Dense)             (None, 4069)              16560830  \n",
            "                                                                 \n",
            " dropout_1 (Dropout)         (None, 4069)              0         \n",
            "                                                                 \n",
            " activation_6 (Activation)   (None, 4069)              0         \n",
            "                                                                 \n",
            " dense_2 (Dense)             (None, 4)                 16280     \n",
            "                                                                 \n",
            " activation_7 (Activation)   (None, 4)                 0         \n",
            "                                                                 \n",
            "=================================================================\n",
            "Total params: 291090519 (1.08 GB)\n",
            "Trainable params: 291089993 (1.08 GB)\n",
            "Non-trainable params: 526 (2.05 KB)\n",
            "_________________________________________________________________\n"
          ]
        }
      ]
    },
    {
      "cell_type": "markdown",
      "metadata": {
        "id": "ompQlYy2vze1"
      },
      "source": [
        "#### (b) (50 Points) Train the above network on CIFAR-10 (without data augmentation) using RMSProp gradient update (you are not required to implement it, you can use your framework's implementation). Along side, you will have to make appropriate choices for the learning rate, batch size, number of training epochs. Report your results on the test set in the form of confusion matrices."
      ]
    },
    {
      "cell_type": "code",
      "metadata": {
        "id": "sFqPPq1HIUFx",
        "colab": {
          "base_uri": "https://localhost:8080/"
        },
        "outputId": "1f483a2f-7fb9-45df-9948-8642f08d22b3"
      },
      "source": [
        "opt = Adam(lr = 1e-4)\n",
        "\n",
        "# opt= optimizers.RMSprop(lr=0.0001)"
      ],
      "execution_count": 20,
      "outputs": [
        {
          "output_type": "stream",
          "name": "stderr",
          "text": [
            "WARNING:absl:`lr` is deprecated in Keras optimizer, please use `learning_rate` or use the legacy optimizer, e.g.,tf.keras.optimizers.legacy.Adam.\n"
          ]
        }
      ]
    },
    {
      "cell_type": "code",
      "metadata": {
        "id": "pMOMwaoaIVKK"
      },
      "source": [
        "model.compile(optimizer = opt,\n",
        "              loss='categorical_crossentropy',\n",
        "              metrics=['accuracy'])"
      ],
      "execution_count": 21,
      "outputs": []
    },
    {
      "cell_type": "code",
      "metadata": {
        "id": "FGpJDNVfIXt5",
        "outputId": "3ebb9651-8d7d-446f-b2b6-a722976bc8cb",
        "colab": {
          "base_uri": "https://localhost:8080/"
        }
      },
      "source": [
        "# training\n",
        "history = model.fit(x_train,y_train,epochs = 250, batch_size = 30)"
      ],
      "execution_count": 22,
      "outputs": [
        {
          "output_type": "stream",
          "name": "stdout",
          "text": [
            "Epoch 1/250\n",
            "1/1 [==============================] - 93s 93s/step - loss: 1.4233 - accuracy: 0.3000\n",
            "Epoch 2/250\n",
            "1/1 [==============================] - 1s 601ms/step - loss: 1028.5057 - accuracy: 0.3000\n",
            "Epoch 3/250\n",
            "1/1 [==============================] - 1s 601ms/step - loss: 21.8600 - accuracy: 0.2333\n",
            "Epoch 4/250\n",
            "1/1 [==============================] - 1s 601ms/step - loss: 2.8904 - accuracy: 0.3333\n",
            "Epoch 5/250\n",
            "1/1 [==============================] - 1s 601ms/step - loss: 1.4865 - accuracy: 0.2667\n",
            "Epoch 6/250\n",
            "1/1 [==============================] - 1s 601ms/step - loss: 1.3810 - accuracy: 0.2333\n",
            "Epoch 7/250\n",
            "1/1 [==============================] - 1s 600ms/step - loss: 1.3681 - accuracy: 0.2333\n",
            "Epoch 8/250\n",
            "1/1 [==============================] - 1s 601ms/step - loss: 1.3837 - accuracy: 0.2333\n",
            "Epoch 9/250\n",
            "1/1 [==============================] - 1s 620ms/step - loss: 1.3658 - accuracy: 0.3000\n",
            "Epoch 10/250\n",
            "1/1 [==============================] - 1s 602ms/step - loss: 1.3688 - accuracy: 0.3333\n",
            "Epoch 11/250\n",
            "1/1 [==============================] - 1s 605ms/step - loss: 1.3684 - accuracy: 0.1667\n",
            "Epoch 12/250\n",
            "1/1 [==============================] - 1s 603ms/step - loss: 1.3737 - accuracy: 0.2333\n",
            "Epoch 13/250\n",
            "1/1 [==============================] - 1s 604ms/step - loss: 1.3880 - accuracy: 0.3000\n",
            "Epoch 14/250\n",
            "1/1 [==============================] - 1s 602ms/step - loss: 1.3629 - accuracy: 0.3000\n",
            "Epoch 15/250\n",
            "1/1 [==============================] - 1s 599ms/step - loss: 1.3632 - accuracy: 0.4000\n",
            "Epoch 16/250\n",
            "1/1 [==============================] - 1s 600ms/step - loss: 1.3665 - accuracy: 0.2333\n",
            "Epoch 17/250\n",
            "1/1 [==============================] - 1s 599ms/step - loss: 1.3628 - accuracy: 0.3333\n",
            "Epoch 18/250\n",
            "1/1 [==============================] - 1s 599ms/step - loss: 1.3601 - accuracy: 0.3333\n",
            "Epoch 19/250\n",
            "1/1 [==============================] - 1s 627ms/step - loss: 1.4815 - accuracy: 0.2333\n",
            "Epoch 20/250\n",
            "1/1 [==============================] - 1s 599ms/step - loss: 1.3837 - accuracy: 0.3000\n",
            "Epoch 21/250\n",
            "1/1 [==============================] - 1s 617ms/step - loss: 1.3748 - accuracy: 0.2333\n",
            "Epoch 22/250\n",
            "1/1 [==============================] - 1s 598ms/step - loss: 1.3707 - accuracy: 0.2333\n",
            "Epoch 23/250\n",
            "1/1 [==============================] - 1s 600ms/step - loss: 1.3617 - accuracy: 0.3333\n",
            "Epoch 24/250\n",
            "1/1 [==============================] - 1s 601ms/step - loss: 1.3357 - accuracy: 0.4333\n",
            "Epoch 25/250\n",
            "1/1 [==============================] - 1s 599ms/step - loss: 1.3445 - accuracy: 0.2667\n",
            "Epoch 26/250\n",
            "1/1 [==============================] - 1s 598ms/step - loss: 1.3379 - accuracy: 0.3667\n",
            "Epoch 27/250\n",
            "1/1 [==============================] - 1s 598ms/step - loss: 1.3473 - accuracy: 0.2333\n",
            "Epoch 28/250\n",
            "1/1 [==============================] - 1s 599ms/step - loss: 1.3363 - accuracy: 0.2667\n",
            "Epoch 29/250\n",
            "1/1 [==============================] - 1s 599ms/step - loss: 1.3339 - accuracy: 0.3667\n",
            "Epoch 30/250\n",
            "1/1 [==============================] - 1s 600ms/step - loss: 1.3194 - accuracy: 0.3333\n",
            "Epoch 31/250\n",
            "1/1 [==============================] - 1s 600ms/step - loss: 1.3356 - accuracy: 0.3333\n",
            "Epoch 32/250\n",
            "1/1 [==============================] - 1s 598ms/step - loss: 1.3265 - accuracy: 0.3667\n",
            "Epoch 33/250\n",
            "1/1 [==============================] - 1s 599ms/step - loss: 1.3227 - accuracy: 0.4333\n",
            "Epoch 34/250\n",
            "1/1 [==============================] - 1s 600ms/step - loss: 1.3396 - accuracy: 0.3667\n",
            "Epoch 35/250\n",
            "1/1 [==============================] - 1s 609ms/step - loss: 1.3147 - accuracy: 0.3667\n",
            "Epoch 36/250\n",
            "1/1 [==============================] - 1s 598ms/step - loss: 1.3490 - accuracy: 0.2667\n",
            "Epoch 37/250\n",
            "1/1 [==============================] - 1s 598ms/step - loss: 1.3375 - accuracy: 0.3667\n",
            "Epoch 38/250\n",
            "1/1 [==============================] - 1s 598ms/step - loss: 1.3647 - accuracy: 0.3000\n",
            "Epoch 39/250\n",
            "1/1 [==============================] - 1s 599ms/step - loss: 1.2950 - accuracy: 0.4000\n",
            "Epoch 40/250\n",
            "1/1 [==============================] - 1s 598ms/step - loss: 1.3447 - accuracy: 0.3000\n",
            "Epoch 41/250\n",
            "1/1 [==============================] - 1s 599ms/step - loss: 1.3186 - accuracy: 0.4000\n",
            "Epoch 42/250\n",
            "1/1 [==============================] - 1s 598ms/step - loss: 1.3488 - accuracy: 0.3333\n",
            "Epoch 43/250\n",
            "1/1 [==============================] - 1s 598ms/step - loss: 1.3425 - accuracy: 0.3667\n",
            "Epoch 44/250\n",
            "1/1 [==============================] - 1s 619ms/step - loss: 1.2923 - accuracy: 0.3667\n",
            "Epoch 45/250\n",
            "1/1 [==============================] - 1s 598ms/step - loss: 1.3647 - accuracy: 0.3667\n",
            "Epoch 46/250\n",
            "1/1 [==============================] - 1s 598ms/step - loss: 1.2869 - accuracy: 0.4000\n",
            "Epoch 47/250\n",
            "1/1 [==============================] - 1s 598ms/step - loss: 1.3121 - accuracy: 0.4333\n",
            "Epoch 48/250\n",
            "1/1 [==============================] - 1s 600ms/step - loss: 1.3180 - accuracy: 0.3667\n",
            "Epoch 49/250\n",
            "1/1 [==============================] - 1s 599ms/step - loss: 1.2590 - accuracy: 0.4333\n",
            "Epoch 50/250\n",
            "1/1 [==============================] - 1s 599ms/step - loss: 1.3007 - accuracy: 0.2333\n",
            "Epoch 51/250\n",
            "1/1 [==============================] - 1s 600ms/step - loss: 1.3110 - accuracy: 0.2333\n",
            "Epoch 52/250\n",
            "1/1 [==============================] - 1s 600ms/step - loss: 1.2494 - accuracy: 0.4333\n",
            "Epoch 53/250\n",
            "1/1 [==============================] - 1s 598ms/step - loss: 1.2969 - accuracy: 0.4000\n",
            "Epoch 54/250\n",
            "1/1 [==============================] - 1s 602ms/step - loss: 1.2713 - accuracy: 0.3667\n",
            "Epoch 55/250\n",
            "1/1 [==============================] - 1s 598ms/step - loss: 1.2787 - accuracy: 0.4000\n",
            "Epoch 56/250\n",
            "1/1 [==============================] - 1s 598ms/step - loss: 1.2879 - accuracy: 0.4000\n",
            "Epoch 57/250\n",
            "1/1 [==============================] - 1s 598ms/step - loss: 1.2623 - accuracy: 0.4000\n",
            "Epoch 58/250\n",
            "1/1 [==============================] - 1s 598ms/step - loss: 1.2663 - accuracy: 0.4000\n",
            "Epoch 59/250\n",
            "1/1 [==============================] - 1s 600ms/step - loss: 1.2353 - accuracy: 0.4333\n",
            "Epoch 60/250\n",
            "1/1 [==============================] - 1s 599ms/step - loss: 1.2322 - accuracy: 0.2000\n",
            "Epoch 61/250\n",
            "1/1 [==============================] - 1s 599ms/step - loss: 1.2707 - accuracy: 0.4000\n",
            "Epoch 62/250\n",
            "1/1 [==============================] - 1s 600ms/step - loss: 1.2469 - accuracy: 0.4333\n",
            "Epoch 63/250\n",
            "1/1 [==============================] - 1s 599ms/step - loss: 1.2325 - accuracy: 0.4000\n",
            "Epoch 64/250\n",
            "1/1 [==============================] - 1s 598ms/step - loss: 1.2334 - accuracy: 0.4000\n",
            "Epoch 65/250\n",
            "1/1 [==============================] - 1s 599ms/step - loss: 1.2145 - accuracy: 0.4000\n",
            "Epoch 66/250\n",
            "1/1 [==============================] - 1s 600ms/step - loss: 1.4069 - accuracy: 0.2333\n",
            "Epoch 67/250\n",
            "1/1 [==============================] - 1s 599ms/step - loss: 1.3352 - accuracy: 0.3667\n",
            "Epoch 68/250\n",
            "1/1 [==============================] - 1s 600ms/step - loss: 1.4037 - accuracy: 0.3000\n",
            "Epoch 69/250\n",
            "1/1 [==============================] - 1s 599ms/step - loss: 1.4055 - accuracy: 0.3000\n",
            "Epoch 70/250\n",
            "1/1 [==============================] - 1s 625ms/step - loss: 1.4082 - accuracy: 0.3000\n",
            "Epoch 71/250\n",
            "1/1 [==============================] - 1s 598ms/step - loss: 1.3766 - accuracy: 0.3000\n",
            "Epoch 72/250\n",
            "1/1 [==============================] - 1s 599ms/step - loss: 1.3412 - accuracy: 0.3000\n",
            "Epoch 73/250\n",
            "1/1 [==============================] - 1s 598ms/step - loss: 1.2975 - accuracy: 0.4000\n",
            "Epoch 74/250\n",
            "1/1 [==============================] - 1s 600ms/step - loss: 1.3496 - accuracy: 0.2333\n",
            "Epoch 75/250\n",
            "1/1 [==============================] - 1s 599ms/step - loss: 1.3110 - accuracy: 0.2333\n",
            "Epoch 76/250\n",
            "1/1 [==============================] - 1s 600ms/step - loss: 1.2909 - accuracy: 0.4000\n",
            "Epoch 77/250\n",
            "1/1 [==============================] - 1s 598ms/step - loss: 1.3139 - accuracy: 0.4000\n",
            "Epoch 78/250\n",
            "1/1 [==============================] - 1s 599ms/step - loss: 1.3205 - accuracy: 0.3667\n",
            "Epoch 79/250\n",
            "1/1 [==============================] - 1s 599ms/step - loss: 1.3004 - accuracy: 0.3667\n",
            "Epoch 80/250\n",
            "1/1 [==============================] - 1s 598ms/step - loss: 1.2908 - accuracy: 0.3333\n",
            "Epoch 81/250\n",
            "1/1 [==============================] - 1s 599ms/step - loss: 1.2853 - accuracy: 0.3000\n",
            "Epoch 82/250\n",
            "1/1 [==============================] - 1s 597ms/step - loss: 1.2719 - accuracy: 0.3000\n",
            "Epoch 83/250\n",
            "1/1 [==============================] - 1s 599ms/step - loss: 1.2645 - accuracy: 0.4333\n",
            "Epoch 84/250\n",
            "1/1 [==============================] - 1s 599ms/step - loss: 1.2672 - accuracy: 0.4000\n",
            "Epoch 85/250\n",
            "1/1 [==============================] - 1s 599ms/step - loss: 1.2454 - accuracy: 0.4000\n",
            "Epoch 86/250\n",
            "1/1 [==============================] - 1s 599ms/step - loss: 1.2585 - accuracy: 0.4667\n",
            "Epoch 87/250\n",
            "1/1 [==============================] - 1s 598ms/step - loss: 1.2551 - accuracy: 0.4000\n",
            "Epoch 88/250\n",
            "1/1 [==============================] - 1s 599ms/step - loss: 1.2322 - accuracy: 0.4000\n",
            "Epoch 89/250\n",
            "1/1 [==============================] - 1s 599ms/step - loss: 1.2396 - accuracy: 0.4000\n",
            "Epoch 90/250\n",
            "1/1 [==============================] - 1s 598ms/step - loss: 1.2251 - accuracy: 0.4000\n",
            "Epoch 91/250\n",
            "1/1 [==============================] - 1s 598ms/step - loss: 1.2262 - accuracy: 0.4000\n",
            "Epoch 92/250\n",
            "1/1 [==============================] - 1s 598ms/step - loss: 1.2068 - accuracy: 0.4000\n",
            "Epoch 93/250\n",
            "1/1 [==============================] - 1s 599ms/step - loss: 1.2147 - accuracy: 0.4000\n",
            "Epoch 94/250\n",
            "1/1 [==============================] - 1s 599ms/step - loss: 1.1951 - accuracy: 0.4000\n",
            "Epoch 95/250\n",
            "1/1 [==============================] - 1s 599ms/step - loss: 1.1959 - accuracy: 0.4667\n",
            "Epoch 96/250\n",
            "1/1 [==============================] - 1s 600ms/step - loss: 1.2110 - accuracy: 0.3667\n",
            "Epoch 97/250\n",
            "1/1 [==============================] - 1s 609ms/step - loss: 1.1891 - accuracy: 0.4333\n",
            "Epoch 98/250\n",
            "1/1 [==============================] - 1s 601ms/step - loss: 6.3177 - accuracy: 0.2667\n",
            "Epoch 99/250\n",
            "1/1 [==============================] - 1s 599ms/step - loss: 1.8569 - accuracy: 0.2000\n",
            "Epoch 100/250\n",
            "1/1 [==============================] - 1s 600ms/step - loss: 1.3434 - accuracy: 0.4000\n",
            "Epoch 101/250\n",
            "1/1 [==============================] - 1s 602ms/step - loss: 1.6425 - accuracy: 0.3000\n",
            "Epoch 102/250\n",
            "1/1 [==============================] - 1s 600ms/step - loss: 1.2369 - accuracy: 0.3667\n",
            "Epoch 103/250\n",
            "1/1 [==============================] - 1s 600ms/step - loss: 1.2761 - accuracy: 0.2000\n",
            "Epoch 104/250\n",
            "1/1 [==============================] - 1s 599ms/step - loss: 1.2948 - accuracy: 0.4000\n",
            "Epoch 105/250\n",
            "1/1 [==============================] - 1s 600ms/step - loss: 1.3652 - accuracy: 0.3667\n",
            "Epoch 106/250\n",
            "1/1 [==============================] - 1s 600ms/step - loss: 1.3514 - accuracy: 0.3333\n",
            "Epoch 107/250\n",
            "1/1 [==============================] - 1s 600ms/step - loss: 1.3189 - accuracy: 0.2333\n",
            "Epoch 108/250\n",
            "1/1 [==============================] - 1s 598ms/step - loss: 1.3525 - accuracy: 0.3000\n",
            "Epoch 109/250\n",
            "1/1 [==============================] - 1s 621ms/step - loss: 1.2893 - accuracy: 0.2333\n",
            "Epoch 110/250\n",
            "1/1 [==============================] - 1s 599ms/step - loss: 1.2690 - accuracy: 0.4000\n",
            "Epoch 111/250\n",
            "1/1 [==============================] - 1s 600ms/step - loss: 2.0756 - accuracy: 0.2000\n",
            "Epoch 112/250\n",
            "1/1 [==============================] - 1s 626ms/step - loss: 1.4790 - accuracy: 0.3000\n",
            "Epoch 113/250\n",
            "1/1 [==============================] - 1s 598ms/step - loss: 1.5104 - accuracy: 0.3000\n",
            "Epoch 114/250\n",
            "1/1 [==============================] - 1s 600ms/step - loss: 1.5117 - accuracy: 0.3000\n",
            "Epoch 115/250\n",
            "1/1 [==============================] - 1s 599ms/step - loss: 1.4873 - accuracy: 0.3000\n",
            "Epoch 116/250\n",
            "1/1 [==============================] - 1s 598ms/step - loss: 1.4762 - accuracy: 0.3000\n",
            "Epoch 117/250\n",
            "1/1 [==============================] - 1s 598ms/step - loss: 1.4543 - accuracy: 0.3000\n",
            "Epoch 118/250\n",
            "1/1 [==============================] - 1s 618ms/step - loss: 1.4345 - accuracy: 0.3000\n",
            "Epoch 119/250\n",
            "1/1 [==============================] - 1s 605ms/step - loss: 1.4247 - accuracy: 0.3000\n",
            "Epoch 120/250\n",
            "1/1 [==============================] - 1s 599ms/step - loss: 1.4189 - accuracy: 0.3000\n",
            "Epoch 121/250\n",
            "1/1 [==============================] - 1s 598ms/step - loss: 1.4118 - accuracy: 0.3000\n",
            "Epoch 122/250\n",
            "1/1 [==============================] - 1s 599ms/step - loss: 1.4032 - accuracy: 0.3000\n",
            "Epoch 123/250\n",
            "1/1 [==============================] - 1s 599ms/step - loss: 1.3913 - accuracy: 0.3000\n",
            "Epoch 124/250\n",
            "1/1 [==============================] - 1s 600ms/step - loss: 1.3853 - accuracy: 0.3000\n",
            "Epoch 125/250\n",
            "1/1 [==============================] - 1s 600ms/step - loss: 1.3858 - accuracy: 0.3000\n",
            "Epoch 126/250\n",
            "1/1 [==============================] - 1s 599ms/step - loss: 1.3773 - accuracy: 0.3000\n",
            "Epoch 127/250\n",
            "1/1 [==============================] - 1s 615ms/step - loss: 1.3855 - accuracy: 0.3000\n",
            "Epoch 128/250\n",
            "1/1 [==============================] - 1s 599ms/step - loss: 1.3759 - accuracy: 0.2667\n",
            "Epoch 129/250\n",
            "1/1 [==============================] - 1s 598ms/step - loss: 1.3767 - accuracy: 0.3333\n",
            "Epoch 130/250\n",
            "1/1 [==============================] - 1s 599ms/step - loss: 1.3832 - accuracy: 0.3000\n",
            "Epoch 131/250\n",
            "1/1 [==============================] - 1s 598ms/step - loss: 1.3804 - accuracy: 0.3000\n",
            "Epoch 132/250\n",
            "1/1 [==============================] - 1s 602ms/step - loss: 1.3850 - accuracy: 0.3333\n",
            "Epoch 133/250\n",
            "1/1 [==============================] - 1s 599ms/step - loss: 1.3725 - accuracy: 0.2667\n",
            "Epoch 134/250\n",
            "1/1 [==============================] - 1s 599ms/step - loss: 1.3798 - accuracy: 0.3333\n",
            "Epoch 135/250\n",
            "1/1 [==============================] - 1s 599ms/step - loss: 1.3772 - accuracy: 0.2667\n",
            "Epoch 136/250\n",
            "1/1 [==============================] - 1s 599ms/step - loss: 1.3800 - accuracy: 0.2333\n",
            "Epoch 137/250\n",
            "1/1 [==============================] - 1s 600ms/step - loss: 1.3792 - accuracy: 0.3000\n",
            "Epoch 138/250\n",
            "1/1 [==============================] - 1s 599ms/step - loss: 1.3755 - accuracy: 0.2667\n",
            "Epoch 139/250\n",
            "1/1 [==============================] - 1s 601ms/step - loss: 1.3758 - accuracy: 0.3667\n",
            "Epoch 140/250\n",
            "1/1 [==============================] - 1s 600ms/step - loss: 1.3763 - accuracy: 0.3000\n",
            "Epoch 141/250\n",
            "1/1 [==============================] - 1s 611ms/step - loss: 1.3726 - accuracy: 0.3000\n",
            "Epoch 142/250\n",
            "1/1 [==============================] - 1s 601ms/step - loss: 1.3763 - accuracy: 0.3000\n",
            "Epoch 143/250\n",
            "1/1 [==============================] - 1s 600ms/step - loss: 1.3802 - accuracy: 0.3000\n",
            "Epoch 144/250\n",
            "1/1 [==============================] - 1s 599ms/step - loss: 1.3751 - accuracy: 0.3000\n",
            "Epoch 145/250\n",
            "1/1 [==============================] - 1s 599ms/step - loss: 1.3786 - accuracy: 0.3000\n",
            "Epoch 146/250\n",
            "1/1 [==============================] - 1s 600ms/step - loss: 1.3712 - accuracy: 0.3000\n",
            "Epoch 147/250\n",
            "1/1 [==============================] - 1s 598ms/step - loss: 1.3757 - accuracy: 0.3000\n",
            "Epoch 148/250\n",
            "1/1 [==============================] - 1s 600ms/step - loss: 1.3698 - accuracy: 0.3000\n",
            "Epoch 149/250\n",
            "1/1 [==============================] - 1s 599ms/step - loss: 1.3778 - accuracy: 0.3000\n",
            "Epoch 150/250\n",
            "1/1 [==============================] - 1s 599ms/step - loss: 1.3792 - accuracy: 0.3000\n",
            "Epoch 151/250\n",
            "1/1 [==============================] - 1s 601ms/step - loss: 1.3751 - accuracy: 0.3000\n",
            "Epoch 152/250\n",
            "1/1 [==============================] - 1s 599ms/step - loss: 1.3776 - accuracy: 0.3000\n",
            "Epoch 153/250\n",
            "1/1 [==============================] - 1s 600ms/step - loss: 1.3788 - accuracy: 0.3000\n",
            "Epoch 154/250\n",
            "1/1 [==============================] - 1s 599ms/step - loss: 1.3787 - accuracy: 0.3000\n",
            "Epoch 155/250\n",
            "1/1 [==============================] - 1s 599ms/step - loss: 1.3778 - accuracy: 0.3000\n",
            "Epoch 156/250\n",
            "1/1 [==============================] - 1s 599ms/step - loss: 1.3674 - accuracy: 0.3000\n",
            "Epoch 157/250\n",
            "1/1 [==============================] - 1s 599ms/step - loss: 1.3682 - accuracy: 0.3000\n",
            "Epoch 158/250\n",
            "1/1 [==============================] - 1s 599ms/step - loss: 1.3751 - accuracy: 0.3000\n",
            "Epoch 159/250\n",
            "1/1 [==============================] - 1s 600ms/step - loss: 1.3747 - accuracy: 0.3000\n",
            "Epoch 160/250\n",
            "1/1 [==============================] - 1s 599ms/step - loss: 1.3769 - accuracy: 0.3000\n",
            "Epoch 161/250\n",
            "1/1 [==============================] - 1s 601ms/step - loss: 1.3788 - accuracy: 0.3000\n",
            "Epoch 162/250\n",
            "1/1 [==============================] - 1s 618ms/step - loss: 1.3759 - accuracy: 0.3000\n",
            "Epoch 163/250\n",
            "1/1 [==============================] - 1s 599ms/step - loss: 1.3788 - accuracy: 0.2667\n",
            "Epoch 164/250\n",
            "1/1 [==============================] - 1s 599ms/step - loss: 1.3746 - accuracy: 0.3000\n",
            "Epoch 165/250\n",
            "1/1 [==============================] - 1s 599ms/step - loss: 1.3793 - accuracy: 0.3000\n",
            "Epoch 166/250\n",
            "1/1 [==============================] - 1s 599ms/step - loss: 1.3842 - accuracy: 0.3000\n",
            "Epoch 167/250\n",
            "1/1 [==============================] - 1s 600ms/step - loss: 1.3787 - accuracy: 0.3000\n",
            "Epoch 168/250\n",
            "1/1 [==============================] - 1s 626ms/step - loss: 1.3772 - accuracy: 0.3000\n",
            "Epoch 169/250\n",
            "1/1 [==============================] - 1s 598ms/step - loss: 1.3722 - accuracy: 0.3000\n",
            "Epoch 170/250\n",
            "1/1 [==============================] - 1s 600ms/step - loss: 1.3759 - accuracy: 0.3000\n",
            "Epoch 171/250\n",
            "1/1 [==============================] - 1s 598ms/step - loss: 1.3807 - accuracy: 0.3000\n",
            "Epoch 172/250\n",
            "1/1 [==============================] - 1s 598ms/step - loss: 1.3677 - accuracy: 0.3000\n",
            "Epoch 173/250\n",
            "1/1 [==============================] - 1s 599ms/step - loss: 1.3849 - accuracy: 0.3000\n",
            "Epoch 174/250\n",
            "1/1 [==============================] - 1s 599ms/step - loss: 1.3782 - accuracy: 0.3000\n",
            "Epoch 175/250\n",
            "1/1 [==============================] - 1s 610ms/step - loss: 1.3805 - accuracy: 0.3000\n",
            "Epoch 176/250\n",
            "1/1 [==============================] - 1s 598ms/step - loss: 1.3783 - accuracy: 0.3000\n",
            "Epoch 177/250\n",
            "1/1 [==============================] - 1s 600ms/step - loss: 1.3751 - accuracy: 0.3000\n",
            "Epoch 178/250\n",
            "1/1 [==============================] - 1s 598ms/step - loss: 1.3730 - accuracy: 0.3000\n",
            "Epoch 179/250\n",
            "1/1 [==============================] - 1s 619ms/step - loss: 1.3740 - accuracy: 0.3000\n",
            "Epoch 180/250\n",
            "1/1 [==============================] - 1s 621ms/step - loss: 1.3720 - accuracy: 0.3000\n",
            "Epoch 181/250\n",
            "1/1 [==============================] - 1s 600ms/step - loss: 1.3800 - accuracy: 0.3000\n",
            "Epoch 182/250\n",
            "1/1 [==============================] - 1s 601ms/step - loss: 1.3671 - accuracy: 0.3000\n",
            "Epoch 183/250\n",
            "1/1 [==============================] - 1s 601ms/step - loss: 1.3759 - accuracy: 0.3000\n",
            "Epoch 184/250\n",
            "1/1 [==============================] - 1s 599ms/step - loss: 1.3776 - accuracy: 0.3000\n",
            "Epoch 185/250\n",
            "1/1 [==============================] - 1s 608ms/step - loss: 1.3756 - accuracy: 0.3000\n",
            "Epoch 186/250\n",
            "1/1 [==============================] - 1s 599ms/step - loss: 1.3760 - accuracy: 0.3000\n",
            "Epoch 187/250\n",
            "1/1 [==============================] - 1s 599ms/step - loss: 1.3753 - accuracy: 0.3000\n",
            "Epoch 188/250\n",
            "1/1 [==============================] - 1s 616ms/step - loss: 1.3779 - accuracy: 0.3000\n",
            "Epoch 189/250\n",
            "1/1 [==============================] - 1s 600ms/step - loss: 1.3750 - accuracy: 0.3000\n",
            "Epoch 190/250\n",
            "1/1 [==============================] - 1s 600ms/step - loss: 1.3828 - accuracy: 0.3000\n",
            "Epoch 191/250\n",
            "1/1 [==============================] - 1s 598ms/step - loss: 1.3807 - accuracy: 0.3000\n",
            "Epoch 192/250\n",
            "1/1 [==============================] - 1s 598ms/step - loss: 1.3749 - accuracy: 0.3000\n",
            "Epoch 193/250\n",
            "1/1 [==============================] - 1s 599ms/step - loss: 1.3750 - accuracy: 0.3000\n",
            "Epoch 194/250\n",
            "1/1 [==============================] - 1s 601ms/step - loss: 1.3782 - accuracy: 0.3000\n",
            "Epoch 195/250\n",
            "1/1 [==============================] - 1s 599ms/step - loss: 1.3687 - accuracy: 0.3000\n",
            "Epoch 196/250\n",
            "1/1 [==============================] - 1s 601ms/step - loss: 1.3749 - accuracy: 0.3000\n",
            "Epoch 197/250\n",
            "1/1 [==============================] - 1s 598ms/step - loss: 1.3774 - accuracy: 0.3000\n",
            "Epoch 198/250\n",
            "1/1 [==============================] - 1s 602ms/step - loss: 1.3786 - accuracy: 0.3000\n",
            "Epoch 199/250\n",
            "1/1 [==============================] - 1s 600ms/step - loss: 1.3728 - accuracy: 0.3000\n",
            "Epoch 200/250\n",
            "1/1 [==============================] - 1s 598ms/step - loss: 1.3810 - accuracy: 0.3000\n",
            "Epoch 201/250\n",
            "1/1 [==============================] - 1s 598ms/step - loss: 1.3721 - accuracy: 0.3000\n",
            "Epoch 202/250\n",
            "1/1 [==============================] - 1s 600ms/step - loss: 1.3807 - accuracy: 0.3000\n",
            "Epoch 203/250\n",
            "1/1 [==============================] - 1s 599ms/step - loss: 1.3734 - accuracy: 0.3000\n",
            "Epoch 204/250\n",
            "1/1 [==============================] - 1s 599ms/step - loss: 1.3759 - accuracy: 0.3000\n",
            "Epoch 205/250\n",
            "1/1 [==============================] - 1s 599ms/step - loss: 1.3796 - accuracy: 0.3000\n",
            "Epoch 206/250\n",
            "1/1 [==============================] - 1s 599ms/step - loss: 1.3709 - accuracy: 0.3000\n",
            "Epoch 207/250\n",
            "1/1 [==============================] - 1s 599ms/step - loss: 1.3757 - accuracy: 0.3000\n",
            "Epoch 208/250\n",
            "1/1 [==============================] - 1s 600ms/step - loss: 1.3783 - accuracy: 0.3000\n",
            "Epoch 209/250\n",
            "1/1 [==============================] - 1s 601ms/step - loss: 1.3712 - accuracy: 0.3000\n",
            "Epoch 210/250\n",
            "1/1 [==============================] - 1s 602ms/step - loss: 1.3767 - accuracy: 0.3000\n",
            "Epoch 211/250\n",
            "1/1 [==============================] - 1s 599ms/step - loss: 1.3735 - accuracy: 0.3000\n",
            "Epoch 212/250\n",
            "1/1 [==============================] - 1s 599ms/step - loss: 1.3746 - accuracy: 0.3000\n",
            "Epoch 213/250\n",
            "1/1 [==============================] - 1s 600ms/step - loss: 1.3681 - accuracy: 0.3000\n",
            "Epoch 214/250\n",
            "1/1 [==============================] - 1s 599ms/step - loss: 1.3789 - accuracy: 0.3000\n",
            "Epoch 215/250\n",
            "1/1 [==============================] - 1s 598ms/step - loss: 1.3693 - accuracy: 0.3000\n",
            "Epoch 216/250\n",
            "1/1 [==============================] - 1s 601ms/step - loss: 1.3710 - accuracy: 0.3000\n",
            "Epoch 217/250\n",
            "1/1 [==============================] - 1s 600ms/step - loss: 1.3699 - accuracy: 0.3000\n",
            "Epoch 218/250\n",
            "1/1 [==============================] - 1s 601ms/step - loss: 1.3770 - accuracy: 0.3000\n",
            "Epoch 219/250\n",
            "1/1 [==============================] - 1s 599ms/step - loss: 1.3771 - accuracy: 0.3000\n",
            "Epoch 220/250\n",
            "1/1 [==============================] - 1s 600ms/step - loss: 1.3731 - accuracy: 0.3000\n",
            "Epoch 221/250\n",
            "1/1 [==============================] - 1s 599ms/step - loss: 1.3761 - accuracy: 0.3000\n",
            "Epoch 222/250\n",
            "1/1 [==============================] - 1s 599ms/step - loss: 1.3721 - accuracy: 0.3000\n",
            "Epoch 223/250\n",
            "1/1 [==============================] - 1s 615ms/step - loss: 1.3772 - accuracy: 0.3000\n",
            "Epoch 224/250\n",
            "1/1 [==============================] - 1s 600ms/step - loss: 1.3771 - accuracy: 0.3000\n",
            "Epoch 225/250\n",
            "1/1 [==============================] - 1s 600ms/step - loss: 1.3797 - accuracy: 0.3000\n",
            "Epoch 226/250\n",
            "1/1 [==============================] - 1s 599ms/step - loss: 1.3740 - accuracy: 0.3000\n",
            "Epoch 227/250\n",
            "1/1 [==============================] - 1s 599ms/step - loss: 1.3786 - accuracy: 0.3000\n",
            "Epoch 228/250\n",
            "1/1 [==============================] - 1s 599ms/step - loss: 1.3693 - accuracy: 0.3000\n",
            "Epoch 229/250\n",
            "1/1 [==============================] - 1s 599ms/step - loss: 1.3885 - accuracy: 0.3000\n",
            "Epoch 230/250\n",
            "1/1 [==============================] - 1s 599ms/step - loss: 1.3818 - accuracy: 0.3000\n",
            "Epoch 231/250\n",
            "1/1 [==============================] - 1s 600ms/step - loss: 1.3804 - accuracy: 0.3000\n",
            "Epoch 232/250\n",
            "1/1 [==============================] - 1s 598ms/step - loss: 1.3701 - accuracy: 0.3000\n",
            "Epoch 233/250\n",
            "1/1 [==============================] - 1s 598ms/step - loss: 1.3797 - accuracy: 0.3000\n",
            "Epoch 234/250\n",
            "1/1 [==============================] - 1s 598ms/step - loss: 1.3789 - accuracy: 0.3000\n",
            "Epoch 235/250\n",
            "1/1 [==============================] - 1s 598ms/step - loss: 1.3635 - accuracy: 0.3000\n",
            "Epoch 236/250\n",
            "1/1 [==============================] - 1s 601ms/step - loss: 1.3821 - accuracy: 0.3000\n",
            "Epoch 237/250\n",
            "1/1 [==============================] - 1s 618ms/step - loss: 1.3815 - accuracy: 0.3000\n",
            "Epoch 238/250\n",
            "1/1 [==============================] - 1s 598ms/step - loss: 1.3793 - accuracy: 0.3000\n",
            "Epoch 239/250\n",
            "1/1 [==============================] - 1s 599ms/step - loss: 1.3866 - accuracy: 0.3000\n",
            "Epoch 240/250\n",
            "1/1 [==============================] - 1s 598ms/step - loss: 1.3800 - accuracy: 0.3000\n",
            "Epoch 241/250\n",
            "1/1 [==============================] - 1s 599ms/step - loss: 1.3797 - accuracy: 0.3000\n",
            "Epoch 242/250\n",
            "1/1 [==============================] - 1s 600ms/step - loss: 1.3697 - accuracy: 0.3000\n",
            "Epoch 243/250\n",
            "1/1 [==============================] - 1s 599ms/step - loss: 1.3776 - accuracy: 0.3000\n",
            "Epoch 244/250\n",
            "1/1 [==============================] - 1s 600ms/step - loss: 1.3694 - accuracy: 0.3000\n",
            "Epoch 245/250\n",
            "1/1 [==============================] - 1s 600ms/step - loss: 1.3680 - accuracy: 0.3000\n",
            "Epoch 246/250\n",
            "1/1 [==============================] - 1s 600ms/step - loss: 1.3822 - accuracy: 0.3000\n",
            "Epoch 247/250\n",
            "1/1 [==============================] - 1s 599ms/step - loss: 1.3759 - accuracy: 0.3000\n",
            "Epoch 248/250\n",
            "1/1 [==============================] - 1s 598ms/step - loss: 1.3722 - accuracy: 0.3000\n",
            "Epoch 249/250\n",
            "1/1 [==============================] - 1s 599ms/step - loss: 1.3687 - accuracy: 0.3000\n",
            "Epoch 250/250\n",
            "1/1 [==============================] - 1s 598ms/step - loss: 1.3779 - accuracy: 0.3000\n"
          ]
        }
      ]
    },
    {
      "cell_type": "code",
      "metadata": {
        "id": "JXNWrsxlIg-Y",
        "outputId": "ee2ed42f-a31f-4762-981c-8a737bc1bc0b",
        "colab": {
          "base_uri": "https://localhost:8080/",
          "height": 430
        }
      },
      "source": [
        "# Loss: convergence or not: Plot the curve\n",
        "plt.plot(history.history['loss'])\n",
        "plt.show()"
      ],
      "execution_count": 23,
      "outputs": [
        {
          "output_type": "display_data",
          "data": {
            "text/plain": [
              "<Figure size 640x480 with 1 Axes>"
            ],
            "image/png": "[encoded data removed]"
          },
          "metadata": {}
        }
      ]
    },
    {
      "cell_type": "markdown",
      "metadata": {
        "id": "Vh13m5tzn3J1"
      },
      "source": [
        "##### confusion matrix"
      ]
    },
    {
      "cell_type": "code",
      "source": [
        "import seaborn as sns\n",
        "from sklearn.metrics import confusion_matrix\n",
        "\n",
        "y_prediction = model.predict(x_train)\n",
        "# Convert predictions classes to one hot vectors\n",
        "y_pred_classes = np.argmax(y_prediction,axis = 1)\n",
        "# Convert validation observations to one hot vectors\n",
        "y_true = np.argmax(y_train,axis = 1)\n",
        "# compute the confusion matrix\n",
        "confusion_mtx = confusion_matrix(y_true, y_pred_classes)\n",
        "\n",
        "plt.figure(figsize=(10,8))\n",
        "sns.heatmap(confusion_mtx, annot=True, fmt=\"d\", color = 'g');"
      ],
      "metadata": {
        "colab": {
          "base_uri": "https://localhost:8080/",
          "height": 699
        },
        "id": "cndOQuOQwyPW",
        "outputId": "dc64e6df-8509-47eb-881b-bfce6341a28f"
      },
      "execution_count": 24,
      "outputs": [
        {
          "output_type": "stream",
          "name": "stdout",
          "text": [
            "1/1 [==============================] - 41s 41s/step\n"
          ]
        },
        {
          "output_type": "display_data",
          "data": {
            "text/plain": [
              "<Figure size 1000x800 with 2 Axes>"
            ],
            "image/png": "[encoded data removed]"
          },
          "metadata": {}
        }
      ]
    },
    {
      "cell_type": "code",
      "metadata": {
        "id": "mDq3v3mrxC4h",
        "outputId": "0b6b424f-33a2-4427-eeab-9e4afb82fef3",
        "colab": {
          "base_uri": "https://localhost:8080/",
          "height": 699
        }
      },
      "source": [
        "import seaborn as sns\n",
        "from sklearn.metrics import confusion_matrix\n",
        "\n",
        "y_prediction = model.predict(x_test)\n",
        "# Convert predictions classes to one hot vectors\n",
        "y_pred_classes = np.argmax(y_prediction,axis = 1)\n",
        "# Convert validation observations to one hot vectors\n",
        "y_true = np.argmax(y_test,axis = 1)\n",
        "# compute the confusion matrix\n",
        "confusion_mtx = confusion_matrix(y_true, y_pred_classes)\n",
        "\n",
        "plt.figure(figsize=(10,8))\n",
        "sns.heatmap(confusion_mtx, annot=True, fmt=\"d\", color = 'g');"
      ],
      "execution_count": 25,
      "outputs": [
        {
          "output_type": "stream",
          "name": "stdout",
          "text": [
            "1/1 [==============================] - 11s 11s/step\n"
          ]
        },
        {
          "output_type": "display_data",
          "data": {
            "text/plain": [
              "<Figure size 1000x800 with 2 Axes>"
            ],
            "image/png": "[encoded data removed]"
          },
          "metadata": {}
        }
      ]
    },
    {
      "cell_type": "code",
      "metadata": {
        "id": "oKsrfVs6tPjb"
      },
      "source": [],
      "execution_count": 25,
      "outputs": []
    },
    {
      "cell_type": "code",
      "metadata": {
        "id": "pokw6ijmtPgb"
      },
      "source": [],
      "execution_count": 25,
      "outputs": []
    },
    {
      "cell_type": "code",
      "metadata": {
        "id": "MaZqOs7vtPeM"
      },
      "source": [],
      "execution_count": 25,
      "outputs": []
    },
    {
      "cell_type": "code",
      "metadata": {
        "id": "X3wDRIyptPcJ"
      },
      "source": [],
      "execution_count": 25,
      "outputs": []
    },
    {
      "cell_type": "code",
      "metadata": {
        "id": "jT9uF5uatPZZ"
      },
      "source": [],
      "execution_count": 25,
      "outputs": []
    },
    {
      "cell_type": "code",
      "metadata": {
        "id": "iYdTc0MmtPXa"
      },
      "source": [],
      "execution_count": 25,
      "outputs": []
    },
    {
      "cell_type": "code",
      "metadata": {
        "id": "qyrpaT7MtPUx"
      },
      "source": [],
      "execution_count": 25,
      "outputs": []
    },
    {
      "cell_type": "code",
      "metadata": {
        "id": "zgq-0c-KtPSP"
      },
      "source": [],
      "execution_count": 25,
      "outputs": []
    },
    {
      "cell_type": "code",
      "metadata": {
        "id": "XW_YnO7QtPPr"
      },
      "source": [],
      "execution_count": 25,
      "outputs": []
    },
    {
      "cell_type": "code",
      "metadata": {
        "id": "fCF2eS3btPNC"
      },
      "source": [],
      "execution_count": 25,
      "outputs": []
    },
    {
      "cell_type": "code",
      "metadata": {
        "id": "DA2VGUOcGTPg"
      },
      "source": [],
      "execution_count": 25,
      "outputs": []
    }
  ]
}